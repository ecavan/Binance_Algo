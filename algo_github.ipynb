{
 "cells": [
  {
   "cell_type": "code",
   "execution_count": 1,
   "metadata": {
    "collapsed": true
   },
   "outputs": [],
   "source": [
    "###imports###\n",
    "##pip install python-binance to use the packages below###\n",
    "\n",
    "from binance.client import Client\n",
    "from binance.websockets import BinanceSocketManager\n",
    "from binance.exceptions import BinanceAPIException, BinanceOrderException\n",
    "\n",
    "from twisted.internet import reactor\n",
    "\n",
    "import numpy as np \n",
    "import pytz\n",
    "from datetime import timezone\n",
    "from datetime import datetime\n",
    "from time import sleep\n",
    "\n",
    "import pandas as pd\n",
    "import matplotlib.pyplot as plt\n",
    "\n",
    "import warnings\n",
    "\n",
    "warnings.filterwarnings('ignore')\n",
    "warnings.simplefilter('ignore')"
   ]
  },
  {
   "cell_type": "code",
   "execution_count": null,
   "metadata": {
    "collapsed": true
   },
   "outputs": [],
   "source": [
    "##see https://testnet.binance.vision/ to sign up for a demo account###\n",
    "\n",
    "api_key_demo = \"\"\n",
    "api_secret_demo = \"\""
   ]
  },
  {
   "cell_type": "code",
   "execution_count": null,
   "metadata": {
    "collapsed": true
   },
   "outputs": [],
   "source": [
    "##get account balance/wallet###\n",
    "\n",
    "client = Client(api_key_demo, api_secret_demo)\n",
    "\n",
    "client.API_URL = 'https://testnet.binance.vision/api'\n",
    "\n",
    "print(client.get_account())"
   ]
  },
  {
   "cell_type": "code",
   "execution_count": null,
   "metadata": {
    "collapsed": true
   },
   "outputs": [],
   "source": [
    "###create skeleton of dataframe to add features later (during the connection)###\n",
    "\n",
    "price = {\"XRPUSDT\": pd.DataFrame(columns=['date', 'open','price', 'high', 'low', 'volume','ma','ma2', 'bl', 'value']), \"TRXUSDT\": pd.DataFrame(columns=['date', 'open','price','high', 'low', 'volume','ma','ma2', 'bl', 'value']), 'LTCUSDT': pd.DataFrame(columns=['date','open', 'price','high', 'low', 'volume','ma','bu', 'bl', 'value']), 'error':False}\n",
    "\n",
    "def btc_pairs_trade(msg):\n",
    "    if msg['e'] != 'error':\n",
    "        price[\"XRPUSDT\"].loc[len(price[\"XRPUSDT\"])] = [pd.Timestamp.now(),float(msg['o']), float(msg['c']),float(msg['h']), float(msg['l']), float(msg['v']), np.nan, np.nan, np.nan, np.nan]\n",
    "    else:\n",
    "        price['error']:True\n",
    "            \n",
    "            \n",
    "def btc_pairs_trade2(msg):\n",
    "    if msg['e'] != 'error':\n",
    "        price[\"TRXUSDT\"].loc[len(price[\"TRXUSDT\"])] = [pd.Timestamp.now(), float(msg['o']), float(msg['c']), float(msg['h']), float(msg['l']),float(msg['v']), np.nan, np.nan, np.nan, np.nan]\n",
    "    else:\n",
    "        price['error']:True"
   ]
  },
  {
   "cell_type": "code",
   "execution_count": null,
   "metadata": {
    "collapsed": true
   },
   "outputs": [],
   "source": [
    "###initial portfolio value and current crypto balances###\n",
    "\n",
    "x = client.get_account()\n",
    "\n",
    "xrp_i = client.get_symbol_ticker(symbol=\"XRPUSDT\")\n",
    "trx_i = client.get_symbol_ticker(symbol=\"TRXUSDT\")\n",
    "\n",
    "print('Initial Price of TRX: ' + str(float(trx_i['price'])))\n",
    "print('Initial Price of XRP: ' + str(float(xrp_i['price'])))\n",
    "print('')\n",
    "\n",
    "balance = float(x['balances'][6]['free'])\n",
    "trx = float(x['balances'][5]['free'])\n",
    "xrp = float(x['balances'][7]['free'])\n",
    "\n",
    "print( 'Starting Account Balance: ' + str(x['balances'][6]['free']))\n",
    "print( 'Starting TRX Balance: ' + str(x['balances'][5]['free']))\n",
    "print( 'Starting XRP Balance: ' + str(x['balances'][7]['free']))\n",
    "\n",
    "print('')\n",
    "\n",
    "value = balance + float(xrp_i['price'])*xrp + float(trx_i['price'])*trx\n",
    "\n",
    "print('Initial Approximate Portfolio value: ' + str(value))"
   ]
  },
  {
   "cell_type": "code",
   "execution_count": null,
   "metadata": {
    "collapsed": true
   },
   "outputs": [],
   "source": [
    "def create_order():\n",
    "    \n",
    "    bsm = BinanceSocketManager(client)\n",
    "    conn_key = bsm.start_symbol_ticker_socket(\"XRPUSDT\", btc_pairs_trade2)\n",
    "    conn_key2 = bsm.start_symbol_ticker_socket(\"TRXUSDT\", btc_pairs_trade)\n",
    "    bsm.start()\n",
    "    \n",
    "    z = client.get_account()\n",
    "    \n",
    "    while len(price[\"XRPUSDT\"])  == 0:\n",
    "        sleep(0.1)\n",
    "    \n",
    "    sleep(400)\n",
    "    \n",
    "    stocks = [\"XRPUSDT\", \"TRXUSDT\"]\n",
    "    \n",
    "    for stock in stocks:\n",
    "    \n",
    "        df = price[stock]\n",
    "        \n",
    "        try:\n",
    "            \n",
    "            ###input algorithm here - cond_1:cond_n that need to be satisfied for a buy/sell##\n",
    "            \n",
    "            df = df.sort_values('date', ascending = False)\n",
    "\n",
    "            \n",
    "            if ( (cond_1 & cond_4)| (cond_2 & ~cond_3)  )&(stock == 'XRPUSDT'):\n",
    "                order = client.order_market_sell(symbol=stock, quantity=25)\n",
    "                \n",
    "            elif ( (cond_1 & cond_4)| (cond_2 & ~cond_3)  )&(stock == \"TRXUSDT\"):\n",
    "                order = client.order_market_sell(symbol=stock, quantity=300)\n",
    "\n",
    "            elif ((cond_1 & cond_3)| (cond_2 & cond_4) )&(stock == \"TRXUSDT\"):\n",
    "                order = client.order_market_buy(symbol=stock, quantity=300)\n",
    "                \n",
    "            elif ( (cond_1 & cond_3)| (cond_2 & cond_4) )&(stock == 'XRPUSDT'):\n",
    "                order = client.order_market_buy(symbol=stock, quantity=25)\n",
    "                \n",
    "            else:\n",
    "                print(\"Did not Buy\")\n",
    "\n",
    "            sleep(0.1)\n",
    "            \n",
    "        except:\n",
    "            print('An Error Occured...')\n",
    "    \n",
    "    h = client.get_account()\n",
    "    \n",
    "    print(' ')\n",
    "    now = datetime.now()\n",
    "    dt_string = now.strftime(\"%H:%M:%S\")\n",
    "    print(\"Time: \", dt_string)\n",
    "    print( 'Difference Account Balance: ' + str(float(h['balances'][6]['free']) - float(z['balances'][6]['free'])))\n",
    "    print( 'Difference TRX Balance: ' + str(float(h['balances'][5]['free']) - float(z['balances'][5]['free'])))\n",
    "    print( 'Difference XRP Balance: ' + str(float(h['balances'][7]['free']) - float(z['balances'][7]['free'])))\n",
    "    print(' ')\n",
    "    print('Next Iteration:')\n",
    "    print(' ')"
   ]
  },
  {
   "cell_type": "code",
   "execution_count": null,
   "metadata": {
    "collapsed": true
   },
   "outputs": [],
   "source": [
    "while True:\n",
    "    \n",
    "    create_order()\n",
    "\n",
    "    sleep(250)"
   ]
  },
  {
   "cell_type": "code",
   "execution_count": null,
   "metadata": {
    "collapsed": true
   },
   "outputs": [],
   "source": [
    "###get balances and portfolio value after algo is finished###\n",
    "\n",
    "y = client.get_account()\n",
    "\n",
    "xrp_f = client.get_symbol_ticker(symbol=\"XRPUSDT\")\n",
    "trx_f = client.get_symbol_ticker(symbol=\"TRXUSDT\")\n",
    "\n",
    "print('Final Price of TRX: ' + str(float(trx_f['price'])))\n",
    "print('Final Price of XRP: ' + str(float(xrp_f['price'])))\n",
    "print('')\n",
    "\n",
    "balance = float(y['balances'][6]['free'])\n",
    "trx_final = float(y['balances'][5]['free'])\n",
    "xrp_final = float(y['balances'][7]['free'])\n",
    "\n",
    "print( 'Ending Account Balance: ' + str(y['balances'][6]['free']))\n",
    "print( 'Ending TRX Balance: ' + str(y['balances'][5]['free']))\n",
    "print( 'Ending XRP Balance: ' + str(y['balances'][7]['free']))\n",
    "\n",
    "print('')\n",
    "\n",
    "value_final = balance + float(xrp_f['price'])*xrp_final + float(trx_f['price'])*trx_final\n",
    "\n",
    "change = 100*(float(y['balances'][6]['free']) - float(x['balances'][6]['free']))/float(x['balances'][6]['free'])\n",
    "change_xrp = 100*(float(y['balances'][7]['free']) - float(x['balances'][7]['free']))/float(x['balances'][7]['free'])\n",
    "change_trx = 100*(float(y['balances'][5]['free']) - float(x['balances'][5]['free']))/float(x['balances'][5]['free'])\n",
    "change_final = 100*((value_final - value)/value)\n",
    "\n",
    "print(' ')\n",
    "print(' ')\n",
    "print( '% Difference Account Balance: ' + str(change) +'%')\n",
    "print( '% Difference XRP: ' + str(change_xrp) +'%')\n",
    "print( '% Difference TRX: ' + str(change_trx) +'%')\n",
    "print(' ')\n",
    "print( '% Difference Portfolio Value: ' + str(change_final) +'%')\n",
    "print(' ')\n",
    "print('Final Approximate Portfolio Value: ' + str(value_final))"
   ]
  },
  {
   "cell_type": "code",
   "execution_count": null,
   "metadata": {
    "collapsed": true
   },
   "outputs": [],
   "source": []
  },
  {
   "cell_type": "code",
   "execution_count": null,
   "metadata": {
    "collapsed": true
   },
   "outputs": [],
   "source": []
  }
 ],
 "metadata": {
  "kernelspec": {
   "display_name": "Python 3",
   "language": "python",
   "name": "python3"
  },
  "language_info": {
   "codemirror_mode": {
    "name": "ipython",
    "version": 3
   },
   "file_extension": ".py",
   "mimetype": "text/x-python",
   "name": "python",
   "nbconvert_exporter": "python",
   "pygments_lexer": "ipython3",
   "version": "3.6.3"
  }
 },
 "nbformat": 4,
 "nbformat_minor": 2
}
